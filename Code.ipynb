{
 "cells": [
  {
   "cell_type": "code",
   "execution_count": null,
   "id": "15c069c6",
   "metadata": {},
   "outputs": [],
   "source": [
    "import os\n",
    "import time\n",
    "import shutil\n",
    "import mysql.connector"
   ]
  },
  {
   "cell_type": "code",
   "execution_count": 2,
   "id": "bd3bb232",
   "metadata": {},
   "outputs": [],
   "source": [
    "processing_path = 'processing'\n",
    "queue_path = 'queue'\n",
    "processed_path = 'processed'"
   ]
  },
  {
   "cell_type": "code",
   "execution_count": null,
   "id": "327d7bbd",
   "metadata": {},
   "outputs": [],
   "source": [
    "mydb = mysql.connector.connect(\n",
    "  host=\"localhost\",\n",
    "  user=\"Sarvesh\",\n",
    "  password=\"root\",\n",
    "  database=\"assesment\"\n",
    ")\n",
    "mycursor = mydb.cursor()"
   ]
  },
  {
   "cell_type": "code",
   "execution_count": 3,
   "id": "624d6e40",
   "metadata": {},
   "outputs": [],
   "source": [
    "for i in range(1,11):\n",
    "    f = str(i)\n",
    "    filename = f + \".txt\"\n",
    "    with open(os.path.join(processing_path, filename), 'w') as fp:\n",
    "        pass\n",
    "    \n",
    "    sql = \"INSERT INTO table (FileName, Check) VALUES (%s, %s)\"\n",
    "    val = (filename, \"0\")\n",
    "    mycursor.execute(sql, val)\n",
    "    mydb.commit()\n",
    "    time.sleep(1)\n",
    "    \n",
    "    if i % 5 == 0:\n",
    "        all_files = os.listdir(processing_path)\n",
    "        for file in all_files:\n",
    "            shutil.move(processing_path+'/'+file,queue_path+'/'+file)\n",
    "        \n",
    "        all_files1 = os.listdir(queue_path)\n",
    "        for file in all_files1:\n",
    "            sql1 = \"UPDATE table SET check = %s WHERE FileName = %s\"\n",
    "            val1 = (\"1\",file)\n",
    "            mycursor.execute(sql, val)\n",
    "            mydb.commit()\n",
    "            shutil.move(queue_path+'/'+file,processed_path+'/'+file) \n",
    "        \n"
   ]
  },
  {
   "cell_type": "code",
   "execution_count": null,
   "id": "9f681277",
   "metadata": {},
   "outputs": [],
   "source": []
  }
 ],
 "metadata": {
  "kernelspec": {
   "display_name": "Python 3 (ipykernel)",
   "language": "python",
   "name": "python3"
  },
  "language_info": {
   "codemirror_mode": {
    "name": "ipython",
    "version": 3
   },
   "file_extension": ".py",
   "mimetype": "text/x-python",
   "name": "python",
   "nbconvert_exporter": "python",
   "pygments_lexer": "ipython3",
   "version": "3.8.5"
  }
 },
 "nbformat": 4,
 "nbformat_minor": 5
}
